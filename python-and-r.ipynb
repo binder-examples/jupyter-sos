{
 "cells": [
  {
   "cell_type": "code",
   "execution_count": 2,
   "metadata": {
    "kernel": "SoS"
   },
   "outputs": [],
   "source": [
    "import pandas as pd\n",
    "data = pd.read_excel('DEG_list.xlsx')"
   ]
  },
  {
   "cell_type": "code",
   "execution_count": 3,
   "metadata": {
    "kernel": "SoS"
   },
   "outputs": [
    {
     "name": "stderr",
     "output_type": "stream",
     "text": [
      "Failed to start kernel \"R\". Kernel died before replying to kernel_info\n",
      "Error Message:\n",
      "\n",
      " *** caught segfault ***\n",
      "address 0x18, cause 'memory not mapped'\n",
      "\n",
      "Traceback:\n",
      " 1: dyn.load(file, DLLpath = DLLpath, ...)\n",
      " 2: library.dynam(lib, package, package.lib)\n",
      " 3: loadNamespace(i, c(lib.loc, .libPaths()), versionCheck = vI[[i]])\n",
      " 4: namespaceImport(ns, loadNamespace(i, c(lib.loc, .libPaths()),     versionCheck = vI[[i]]), from = package)\n",
      " 5: loadNamespace(name)\n",
      " 6: doTryCatch(return(expr), name, parentenv, handler)\n",
      " 7: tryCatchOne(expr, names, parentenv, handlers[[1L]])\n",
      " 8: tryCatchList(expr, classes, parentenv, handlers)\n",
      " 9: tryCatch(loadNamespace(name), error = function(e) stop(e))\n",
      "10: getNamespace(ns)\n",
      "11: asNamespace(ns)\n",
      "12: getExportedValue(pkg, name)\n",
      "13: IRkernel::main\n",
      "An irrecoverable exception occurred. R is aborting now ...\n",
      "Magic %get without option --kernel can only be executed by subkernels\n"
     ]
    }
   ],
   "source": [
    "%get data"
   ]
  },
  {
   "cell_type": "code",
   "execution_count": 3,
   "metadata": {
    "collapsed": true,
    "kernel": "R"
   },
   "outputs": [],
   "source": [
    "library(biomaRt)\n",
    "ensembl <- useEnsembl(biomart='ensembl')\n",
    "#listDatasets(ensembl)\n",
    "ensembl <- useEnsembl(biomart=\"ensembl\", dataset=\"mmusculus_gene_ensembl\")\n",
    "                     \n",
    "hgnc <- getBM(attributes=c('ensembl_gene_id', 'external_gene_name'),\n",
    "        filters = 'ensembl_gene_id', values = data['ensembl_gene_id'], mart = ensembl)\n",
    "\n",
    "annotated <- merge(data, hgnc, by='ensembl_gene_id', all.x=TRUE)"
   ]
  },
  {
   "cell_type": "code",
   "execution_count": 4,
   "metadata": {
    "collapsed": true,
    "kernel": "SoS"
   },
   "outputs": [],
   "source": [
    "%get annotated --from R\n",
    "annotated = annotated.set_index('external_gene_name')\n",
    "annotated.sort_values(by='padj', inplace=True)\n",
    "annotated.to_excel('annotated_DEG_list.xlsx')"
   ]
  },
  {
   "cell_type": "code",
   "execution_count": null,
   "metadata": {
    "collapsed": true,
    "kernel": "SoS"
   },
   "outputs": [],
   "source": []
  }
 ],
 "metadata": {
  "anaconda-cloud": {},
  "kernelspec": {
   "display_name": "SoS",
   "language": "sos",
   "name": "sos"
  },
  "language_info": {
   "codemirror_mode": "sos",
   "file_extension": ".sos",
   "mimetype": "text/x-sos",
   "name": "sos",
   "nbconvert_exporter": "sos_notebook.converter.SoS_Exporter",
   "pygments_lexer": "sos"
  },
  "sos": {
   "default_kernel": "SoS",
   "kernels": [
    [
     "R",
     "ir",
     "R",
     "#FDEDEC"
    ],
    [
     "SoS",
     "sos",
     "",
     ""
    ]
   ],
   "panel": {
    "displayed": true,
    "height": 0,
    "style": "side"
   },
   "version": "0.9.16.7"
  }
 },
 "nbformat": 4,
 "nbformat_minor": 2
}
